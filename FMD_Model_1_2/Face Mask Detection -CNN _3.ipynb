{
 "cells": [
  {
   "cell_type": "code",
   "execution_count": 2,
   "id": "a6657406",
   "metadata": {},
   "outputs": [],
   "source": [
    "import os\n",
    "import cv2\n",
    "import numpy as np\n",
    "from tensorflow.keras.utils import to_categorical\n",
    "from sklearn.preprocessing import LabelBinarizer\n",
    "from sklearn.model_selection import train_test_split"
   ]
  },
  {
   "cell_type": "code",
   "execution_count": 3,
   "id": "1ea62e64",
   "metadata": {},
   "outputs": [],
   "source": [
    "rowsize=112\n",
    "colsize=112\n",
    "data=[]\n",
    "labels=[]"
   ]
  },
  {
   "cell_type": "code",
   "execution_count": 4,
   "id": "1d1a1969",
   "metadata": {},
   "outputs": [],
   "source": [
    "folders=['with_mask','without_mask','mask_weared_incorrect']\n",
    "code={0:(1,0,0),1:(0,1,0),2:(0,0,1)}\n",
    "i=0\n",
    "label=[]\n",
    "for category in folders:    \n",
    "    path=os.path.join('dataset_3class',category)\n",
    "    for file in os.listdir(path):\n",
    "        img_path=os.path.join(path,file)\n",
    "        img=cv2.imread(img_path)\n",
    "        try:\n",
    "            img=cv2.cvtColor(img,cv2.COLOR_BGR2GRAY)\n",
    "            img=cv2.resize(img,(rowsize,colsize))\n",
    "            data.append(img)\n",
    "            labels.append(category)\n",
    "            label.append(code[i])\n",
    "        except Exception as E:\n",
    "            print(\"Exception encountered: \",E)\n",
    "    i+=1"
   ]
  },
  {
   "cell_type": "code",
   "execution_count": 6,
   "id": "dd850dbe",
   "metadata": {},
   "outputs": [
    {
     "data": {
      "text/plain": [
       "array([[1, 0, 0],\n",
       "       [1, 0, 0],\n",
       "       [1, 0, 0],\n",
       "       ...,\n",
       "       [0, 0, 1],\n",
       "       [0, 0, 1],\n",
       "       [0, 0, 1]])"
      ]
     },
     "execution_count": 6,
     "metadata": {},
     "output_type": "execute_result"
    }
   ],
   "source": [
    "label=np.array(label)\n",
    "label"
   ]
  },
  {
   "cell_type": "code",
   "execution_count": 7,
   "id": "9c9fe0a3",
   "metadata": {},
   "outputs": [],
   "source": [
    "np.save('data_cnn3',data)\n",
    "np.save('labels_cnn3',labels)\n",
    "np.save('labelsi_cnn3',labels)"
   ]
  },
  {
   "cell_type": "code",
   "execution_count": null,
   "id": "e9b5d9c6",
   "metadata": {},
   "outputs": [],
   "source": []
  },
  {
   "cell_type": "code",
   "execution_count": 8,
   "id": "2092cc25",
   "metadata": {},
   "outputs": [],
   "source": [
    "import numpy as np\n",
    "data=np.load('data_cnn3.npy')\n"
   ]
  },
  {
   "cell_type": "code",
   "execution_count": 12,
   "id": "be71795e",
   "metadata": {},
   "outputs": [
    {
     "data": {
      "text/plain": [
       "array(['with_mask', 'with_mask', 'with_mask', ...,\n",
       "       'mask_weared_incorrect', 'mask_weared_incorrect',\n",
       "       'mask_weared_incorrect'], dtype='<U21')"
      ]
     },
     "execution_count": 12,
     "metadata": {},
     "output_type": "execute_result"
    }
   ],
   "source": [
    "labels=np.load('labels_cnn3.npy')\n",
    "labels"
   ]
  },
  {
   "cell_type": "code",
   "execution_count": 7,
   "id": "1cba90de",
   "metadata": {},
   "outputs": [],
   "source": [
    "data=np.array(data)"
   ]
  },
  {
   "cell_type": "code",
   "execution_count": 8,
   "id": "eb31178b",
   "metadata": {},
   "outputs": [
    {
     "data": {
      "text/plain": [
       "(8982, 112, 112)"
      ]
     },
     "execution_count": 8,
     "metadata": {},
     "output_type": "execute_result"
    }
   ],
   "source": [
    "data.shape"
   ]
  },
  {
   "cell_type": "code",
   "execution_count": 8,
   "id": "5919e0b6",
   "metadata": {},
   "outputs": [],
   "source": [
    "rowsize=112\n",
    "colsize=112\n",
    "data=data/255.0\n",
    "data=np.reshape(data,(data.shape[0],rowsize,colsize,1))"
   ]
  },
  {
   "cell_type": "code",
   "execution_count": 9,
   "id": "62509c67",
   "metadata": {},
   "outputs": [
    {
     "data": {
      "text/plain": [
       "(8982, 3)"
      ]
     },
     "execution_count": 9,
     "metadata": {},
     "output_type": "execute_result"
    }
   ],
   "source": [
    "label.shape"
   ]
  },
  {
   "cell_type": "code",
   "execution_count": 11,
   "id": "2eab0c0a",
   "metadata": {},
   "outputs": [],
   "source": [
    "x_train,x_test,y_train,y_test=train_test_split(data,label,test_size=0.2,random_state=1)"
   ]
  },
  {
   "cell_type": "code",
   "execution_count": 12,
   "id": "98f91ee6",
   "metadata": {},
   "outputs": [],
   "source": [
    "from keras.models import Sequential\n",
    "from keras.layers import Dense,Activation,Flatten,Dropout\n",
    "from keras.layers import MaxPooling2D, Conv2D\n"
   ]
  },
  {
   "cell_type": "code",
   "execution_count": 13,
   "id": "c14d3d9c",
   "metadata": {},
   "outputs": [],
   "source": [
    "classes=3\n",
    "batchsize=32#hyperparameter of gradient descent that controls the number of\n",
    "#training samples to work through before the model's internal parameters are rotated"
   ]
  },
  {
   "cell_type": "code",
   "execution_count": 14,
   "id": "2d493365",
   "metadata": {},
   "outputs": [],
   "source": [
    "model=Sequential()"
   ]
  },
  {
   "cell_type": "code",
   "execution_count": 15,
   "id": "66e8d319",
   "metadata": {},
   "outputs": [],
   "source": [
    "#first layer group \n",
    "model.add(Conv2D(64,(3,3),input_shape=(rowsize,colsize,1)))\n",
    "model.add(Activation('relu'))\n",
    "model.add(MaxPooling2D(pool_size=(2,2)))"
   ]
  },
  {
   "cell_type": "code",
   "execution_count": 16,
   "id": "f19d3625",
   "metadata": {},
   "outputs": [],
   "source": [
    "#Second layer group\n",
    "model.add(Conv2D(128,(3,3)))\n",
    "model.add(Activation('relu'))\n",
    "model.add(MaxPooling2D(pool_size=(2,2)))"
   ]
  },
  {
   "cell_type": "code",
   "execution_count": 17,
   "id": "b710c29b",
   "metadata": {},
   "outputs": [],
   "source": [
    "model.add(Flatten())\n",
    "model.add(Dropout(0.5))"
   ]
  },
  {
   "cell_type": "code",
   "execution_count": 18,
   "id": "59e9bca4",
   "metadata": {},
   "outputs": [],
   "source": [
    "model.add(Dense(64,activation='relu'))\n",
    "model.add(Dense(classes,activation='softmax'))"
   ]
  },
  {
   "cell_type": "code",
   "execution_count": 19,
   "id": "e17cf730",
   "metadata": {},
   "outputs": [
    {
     "name": "stdout",
     "output_type": "stream",
     "text": [
      "Model: \"sequential\"\n",
      "_________________________________________________________________\n",
      "Layer (type)                 Output Shape              Param #   \n",
      "=================================================================\n",
      "conv2d (Conv2D)              (None, 110, 110, 64)      640       \n",
      "_________________________________________________________________\n",
      "activation (Activation)      (None, 110, 110, 64)      0         \n",
      "_________________________________________________________________\n",
      "max_pooling2d (MaxPooling2D) (None, 55, 55, 64)        0         \n",
      "_________________________________________________________________\n",
      "conv2d_1 (Conv2D)            (None, 53, 53, 128)       73856     \n",
      "_________________________________________________________________\n",
      "activation_1 (Activation)    (None, 53, 53, 128)       0         \n",
      "_________________________________________________________________\n",
      "max_pooling2d_1 (MaxPooling2 (None, 26, 26, 128)       0         \n",
      "_________________________________________________________________\n",
      "flatten (Flatten)            (None, 86528)             0         \n",
      "_________________________________________________________________\n",
      "dropout (Dropout)            (None, 86528)             0         \n",
      "_________________________________________________________________\n",
      "dense (Dense)                (None, 64)                5537856   \n",
      "_________________________________________________________________\n",
      "dense_1 (Dense)              (None, 3)                 195       \n",
      "=================================================================\n",
      "Total params: 5,612,547\n",
      "Trainable params: 5,612,547\n",
      "Non-trainable params: 0\n",
      "_________________________________________________________________\n",
      "None\n"
     ]
    }
   ],
   "source": [
    "print(model.summary())"
   ]
  },
  {
   "cell_type": "code",
   "execution_count": 20,
   "id": "684142af",
   "metadata": {},
   "outputs": [
    {
     "name": "stdout",
     "output_type": "stream",
     "text": [
      "Epoch 1/15\n",
      "169/169 [==============================] - 189s 1s/step - loss: 0.5261 - accuracy: 0.7751 - val_loss: 0.3253 - val_accuracy: 0.8876\n",
      "Epoch 2/15\n",
      "169/169 [==============================] - 158s 937ms/step - loss: 0.2603 - accuracy: 0.9061 - val_loss: 0.2617 - val_accuracy: 0.9048\n",
      "Epoch 3/15\n",
      "169/169 [==============================] - 152s 900ms/step - loss: 0.1991 - accuracy: 0.9300 - val_loss: 0.2021 - val_accuracy: 0.9260\n",
      "Epoch 4/15\n",
      "169/169 [==============================] - 153s 906ms/step - loss: 0.1321 - accuracy: 0.9551 - val_loss: 0.2286 - val_accuracy: 0.9221\n",
      "Epoch 5/15\n",
      "169/169 [==============================] - 150s 885ms/step - loss: 0.1116 - accuracy: 0.9616 - val_loss: 0.2225 - val_accuracy: 0.9271\n",
      "Epoch 6/15\n",
      "169/169 [==============================] - 150s 885ms/step - loss: 0.0701 - accuracy: 0.9740 - val_loss: 0.2662 - val_accuracy: 0.9332\n",
      "Epoch 7/15\n",
      "169/169 [==============================] - 147s 872ms/step - loss: 0.0687 - accuracy: 0.9744 - val_loss: 0.2315 - val_accuracy: 0.9343\n",
      "Epoch 8/15\n",
      "169/169 [==============================] - 148s 876ms/step - loss: 0.0472 - accuracy: 0.9829 - val_loss: 0.1737 - val_accuracy: 0.9488\n",
      "Epoch 9/15\n",
      "169/169 [==============================] - 148s 875ms/step - loss: 0.0435 - accuracy: 0.9853 - val_loss: 0.2022 - val_accuracy: 0.9455\n",
      "Epoch 10/15\n",
      "169/169 [==============================] - 149s 882ms/step - loss: 0.0260 - accuracy: 0.9911 - val_loss: 0.1718 - val_accuracy: 0.9527\n",
      "Epoch 11/15\n",
      "169/169 [==============================] - 148s 876ms/step - loss: 0.0353 - accuracy: 0.9885 - val_loss: 0.1768 - val_accuracy: 0.9516\n",
      "Epoch 12/15\n",
      "169/169 [==============================] - 149s 880ms/step - loss: 0.0191 - accuracy: 0.9931 - val_loss: 0.2322 - val_accuracy: 0.9444\n",
      "Epoch 13/15\n",
      "169/169 [==============================] - 148s 873ms/step - loss: 0.0138 - accuracy: 0.9968 - val_loss: 0.2140 - val_accuracy: 0.9544\n",
      "Epoch 14/15\n",
      "169/169 [==============================] - 149s 883ms/step - loss: 0.0106 - accuracy: 0.9972 - val_loss: 0.2461 - val_accuracy: 0.9466\n",
      "Epoch 15/15\n",
      "169/169 [==============================] - 149s 882ms/step - loss: 0.0329 - accuracy: 0.9870 - val_loss: 0.2090 - val_accuracy: 0.9399\n"
     ]
    }
   ],
   "source": [
    "from keras.optimizers import Adam\n",
    "epochs=15\n",
    "model.compile(loss='categorical_crossentropy',optimizer=Adam(lr=0.001),metrics=['accuracy'])\n",
    "history=model.fit(x_train,y_train,epochs=epochs,validation_split=0.25)"
   ]
  },
  {
   "cell_type": "code",
   "execution_count": 22,
   "id": "725fbfb5",
   "metadata": {},
   "outputs": [
    {
     "data": {
      "image/png": "[encoded data removed]",
      "text/plain": [
       "<Figure size 432x288 with 1 Axes>"
      ]
     },
     "metadata": {
      "needs_background": "light"
     },
     "output_type": "display_data"
    }
   ],
   "source": [
    "import matplotlib.pyplot as plt\n",
    "plt.plot(history.history['loss'])\n",
    "plt.plot(history.history['val_loss'])\n",
    "plt.plot(history.history['accuracy'])\n",
    "plt.plot(history.history['val_accuracy'])\n",
    "plt.ylabel('loss/ accuracy')\n",
    "plt.xlabel('epochs')\n",
    "plt.legend(['training loss','testing loss','training acc','testing acc'],loc='upper right')\n",
    "plt.show()"
   ]
  },
  {
   "cell_type": "code",
   "execution_count": 110,
   "id": "837cc07d",
   "metadata": {},
   "outputs": [
    {
     "name": "stdout",
     "output_type": "stream",
     "text": [
      "Epoch 1/10\n",
      "142/142 [==============================] - 233s 2s/step - loss: 0.0765 - accuracy: 0.9720 - val_loss: 0.4340 - val_accuracy: 0.8675\n",
      "Epoch 2/10\n",
      "142/142 [==============================] - 133s 934ms/step - loss: 0.0503 - accuracy: 0.9837 - val_loss: 0.4867 - val_accuracy: 0.8775\n",
      "Epoch 3/10\n",
      "142/142 [==============================] - 134s 941ms/step - loss: 0.0410 - accuracy: 0.9876 - val_loss: 0.4953 - val_accuracy: 0.8722\n",
      "Epoch 4/10\n",
      "142/142 [==============================] - 135s 954ms/step - loss: 0.0447 - accuracy: 0.9852 - val_loss: 0.5711 - val_accuracy: 0.8742\n",
      "Epoch 5/10\n",
      "142/142 [==============================] - 133s 938ms/step - loss: 0.0409 - accuracy: 0.9850 - val_loss: 0.5385 - val_accuracy: 0.8689\n",
      "Epoch 6/10\n",
      "142/142 [==============================] - 130s 916ms/step - loss: 0.0351 - accuracy: 0.9872 - val_loss: 0.5337 - val_accuracy: 0.8709\n",
      "Epoch 7/10\n",
      "142/142 [==============================] - 129s 908ms/step - loss: 0.0405 - accuracy: 0.9874 - val_loss: 0.5878 - val_accuracy: 0.8483\n",
      "Epoch 8/10\n",
      "142/142 [==============================] - 136s 960ms/step - loss: 0.0377 - accuracy: 0.9881 - val_loss: 0.5192 - val_accuracy: 0.8861\n",
      "Epoch 9/10\n",
      "142/142 [==============================] - 159s 1s/step - loss: 0.0241 - accuracy: 0.9932 - val_loss: 0.5459 - val_accuracy: 0.8788\n",
      "Epoch 10/10\n",
      "142/142 [==============================] - 162s 1s/step - loss: 0.0196 - accuracy: 0.9934 - val_loss: 0.6133 - val_accuracy: 0.8775\n"
     ]
    }
   ],
   "source": [
    "from keras.optimizers import Adam\n",
    "epochs=10\n",
    "model_10.compile(loss='categorical_crossentropy',optimizer=Adam(lr=0.001),metrics=['accuracy'])\n",
    "history_10=model_10.fit(x_train,y_train,epochs=epochs,validation_split=0.25)"
   ]
  },
  {
   "cell_type": "code",
   "execution_count": 23,
   "id": "392a91c6",
   "metadata": {},
   "outputs": [],
   "source": [
    "model.save('FaceMaskDetection-CNN_3.h5')\n",
    "np.save('history.npy',history.history)"
   ]
  },
  {
   "cell_type": "code",
   "execution_count": null,
   "id": "240d9ded",
   "metadata": {},
   "outputs": [],
   "source": []
  },
  {
   "cell_type": "code",
   "execution_count": 81,
   "id": "56267b11",
   "metadata": {},
   "outputs": [],
   "source": [
    "from keras.models import load_model\n",
    "model=load_model('FaceMaskDetection-CNN_3.h5')\n",
    "history=np.load('history_3.npy',allow_pickle='TRUE').item()"
   ]
  },
  {
   "cell_type": "code",
   "execution_count": 48,
   "id": "b1f2be1f",
   "metadata": {},
   "outputs": [
    {
     "name": "stdout",
     "output_type": "stream",
     "text": [
      "Collecting matplotlib\n",
      "  Downloading matplotlib-3.5.1-cp38-cp38-win_amd64.whl (7.2 MB)\n",
      "Requirement already satisfied: pyparsing>=2.2.1 in e:\\anaconda\\envs\\tensorflow\\lib\\site-packages (from matplotlib) (3.0.4)\n",
      "Collecting fonttools>=4.22.0\n",
      "  Downloading fonttools-4.29.0-py3-none-any.whl (895 kB)\n",
      "Collecting cycler>=0.10\n",
      "  Downloading cycler-0.11.0-py3-none-any.whl (6.4 kB)\n",
      "Requirement already satisfied: packaging>=20.0 in e:\\anaconda\\envs\\tensorflow\\lib\\site-packages (from matplotlib) (21.3)\n",
      "Requirement already satisfied: numpy>=1.17 in e:\\anaconda\\envs\\tensorflow\\lib\\site-packages (from matplotlib) (1.21.2)\n",
      "Requirement already satisfied: python-dateutil>=2.7 in e:\\anaconda\\envs\\tensorflow\\lib\\site-packages (from matplotlib) (2.8.2)\n",
      "Collecting kiwisolver>=1.0.1\n",
      "  Downloading kiwisolver-1.3.2-cp38-cp38-win_amd64.whl (52 kB)\n",
      "Collecting pillow>=6.2.0\n",
      "  Downloading Pillow-9.0.0-cp38-cp38-win_amd64.whl (3.2 MB)\n",
      "Requirement already satisfied: six>=1.5 in e:\\anaconda\\envs\\tensorflow\\lib\\site-packages (from python-dateutil>=2.7->matplotlib) (1.16.0)\n",
      "Installing collected packages: pillow, kiwisolver, fonttools, cycler, matplotlib\n",
      "Successfully installed cycler-0.11.0 fonttools-4.29.0 kiwisolver-1.3.2 matplotlib-3.5.1 pillow-9.0.0\n"
     ]
    }
   ],
   "source": [
    "!pip install matplotlib\n",
    "import matplotlib.pyplot as plt"
   ]
  },
  {
   "cell_type": "code",
   "execution_count": 24,
   "id": "34ef0b14",
   "metadata": {},
   "outputs": [
    {
     "name": "stdout",
     "output_type": "stream",
     "text": [
      "57/57 [==============================] - 10s 170ms/step - loss: 0.2514 - accuracy: 0.9371\n"
     ]
    }
   ],
   "source": [
    "score=model.evaluate(x_test,y_test)"
   ]
  },
  {
   "cell_type": "code",
   "execution_count": 27,
   "id": "61dbdcf4",
   "metadata": {},
   "outputs": [],
   "source": [
    "haar_classifier=cv2.CascadeClassifier('facedetection.xml')"
   ]
  },
  {
   "cell_type": "code",
   "execution_count": 47,
   "id": "bf155a8d",
   "metadata": {},
   "outputs": [],
   "source": [
    "color_dict={0:(0,255,0),1:(0,0,255),2:(0,0,255)}\n",
    "msg_dict={0:\"Check\",1:\"Alert!\",2:\"Alert!\"}"
   ]
  },
  {
   "cell_type": "code",
   "execution_count": 48,
   "id": "b0c97a02",
   "metadata": {},
   "outputs": [],
   "source": [
    "capture=cv2.VideoCapture(0)\n",
    "flag,img=capture.read()\n",
    "\n",
    "while True:\n",
    "    flag,img=capture.read()\n",
    "    if flag: \n",
    "        cv2.imshow('image',img)\n",
    "        grayimg=cv2.cvtColor(img,cv2.COLOR_BGR2GRAY)\n",
    "        faces=haar_classifier.detectMultiScale(grayimg)\n",
    "        for x,y,w,h in faces:            \n",
    "            face=grayimg[y:y+w,x:x+w]\n",
    "            face=cv2.resize(face,(rowsize,colsize))\n",
    "            face=face/255.0\n",
    "            face=face.reshape(1,rowsize,colsize,1)\n",
    "            result=model.predict(face)\n",
    "            \n",
    "            label=np.argmax(result,axis=1)[0]\n",
    "            \n",
    "            cv2.rectangle(img,(x,y),(x+w,y+h),color_dict[label],2)\n",
    "            cv2.putText(img,msg_dict[label],(x,y-10),cv2.FONT_HERSHEY_SIMPLEX,fontScale=0.7,color=color_dict[label],thickness=3)\n",
    "            cv2.imshow('image',img)\n",
    "            \n",
    "        if cv2.waitKey(2)==27:\n",
    "            break\n",
    "capture.release()\n",
    "cv2.destroyAllWindows()\n",
    "    "
   ]
  },
  {
   "cell_type": "code",
   "execution_count": 30,
   "id": "2344ccbf",
   "metadata": {},
   "outputs": [],
   "source": [
    "capture.release()\n",
    "cv2.destroyAllWindows()"
   ]
  },
  {
   "cell_type": "code",
   "execution_count": null,
   "id": "6f6ea6bc",
   "metadata": {},
   "outputs": [],
   "source": []
  }
 ],
 "metadata": {
  "kernelspec": {
   "display_name": "Python 3 (ipykernel)",
   "language": "python",
   "name": "python3"
  },
  "language_info": {
   "codemirror_mode": {
    "name": "ipython",
    "version": 3
   },
   "file_extension": ".py",
   "mimetype": "text/x-python",
   "name": "python",
   "nbconvert_exporter": "python",
   "pygments_lexer": "ipython3",
   "version": "3.8.12"
  }
 },
 "nbformat": 4,
 "nbformat_minor": 5
}
